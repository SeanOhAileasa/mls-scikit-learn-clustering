{
 "cells": [
  {
   "cell_type": "code",
   "execution_count": null,
   "id": "76b6aaa9",
   "metadata": {},
   "outputs": [
    {
     "data": {
      "text/html": [
       "<script>Jupyter.notebook.kernel.restart()</script>"
      ]
     },
     "metadata": {},
     "output_type": "display_data"
    }
   ],
   "source": [
    "from IPython.core.display import display_html\n",
    "display_html(\"<script>Jupyter.notebook.kernel.restart()</script>\",raw=True)"
   ]
  },
  {
   "cell_type": "code",
   "execution_count": 1,
   "id": "19093beb",
   "metadata": {},
   "outputs": [
    {
     "data": {
      "text/html": [
       "<style>.container { width:100% !important; }</style>"
      ],
      "text/plain": [
       "<IPython.core.display.HTML object>"
      ]
     },
     "metadata": {},
     "output_type": "display_data"
    },
    {
     "data": {
      "text/html": [
       "<style>.container { width:100% !important; }</style>"
      ],
      "text/plain": [
       "<IPython.core.display.HTML object>"
      ]
     },
     "metadata": {},
     "output_type": "display_data"
    }
   ],
   "source": [
    "from sys import path; path.insert(1,\"../src\");\n",
    "import fubar; from importlib import reload; reload(fubar);"
   ]
  },
  {
   "cell_type": "markdown",
   "id": "616b0550",
   "metadata": {},
   "source": [
    "***\n",
    "< [GMIT Data Analytics](https://web.archive.org/web/20201029063153/https://www.gmit.ie/computer-science-and-applied-physics/higher-diploma-science-computing-data-analytics-ict) | [Home](https://github.com/SeanOhAileasa) | [README](https://github.com/SeanOhAileasa/mls-scikit-learn-clustering/blob/main/README.md) >\n",
    "\n",
    "[![GMIT](https://github.com/SeanOhAileasa/SeanOhAileasa/blob/master/rc/gmit.png?raw=true)](https://web.archive.org/web/20201029063153/https://www.gmit.ie/computer-science-and-applied-physics/higher-diploma-science-computing-data-analytics-ict)\n",
    "\n",
    "## Machine Learning & Statistics - Course Material 2021\n",
    "### Topic: [``scikit-learn-clustering``](https://nbviewer.jupyter.org/github/SeanOhAileasa/mls-scikit-learn-clustering/blob/main/mls-scikit-learn-clustering.ipynb)\n",
    "***"
   ]
  },
  {
   "cell_type": "markdown",
   "id": "220c0602",
   "metadata": {},
   "source": [
    "Course material for the ``Machine Learning & Statistics`` module (5 Credits) of the ``Higher Diploma in Science in Computing (Data Analytics) (H.Dip)`` programme (75 Credits) at **Galway-Mayo Institute of Technology (GMIT)**."
   ]
  },
  {
   "cell_type": "markdown",
   "id": "85ba523b",
   "metadata": {},
   "source": [
    "- referenced external link - [Machine Learning & Statistics](https://nbviewer.jupyter.org/github/SeanOhAileasa/mls-machine-learning-statistics/blob/main/mls-machine-learning-statistics.ipynb)"
   ]
  },
  {
   "cell_type": "code",
   "execution_count": 2,
   "id": "c75655d3",
   "metadata": {},
   "outputs": [],
   "source": [
    "from sys import path; path.insert(1,\"../src\")\n",
    "from fubar import fFile"
   ]
  },
  {
   "cell_type": "code",
   "execution_count": 3,
   "id": "464c029f",
   "metadata": {},
   "outputs": [
    {
     "name": "stdout",
     "output_type": "stream",
     "text": [
      "# repository ./SeanOhAileasa\r\n",
      "def fFile(nParPath):\r\n",
      "    \"\"\"Start a file with its associated application.\r\n",
      "\r\n",
      "Input: nParPath\r\n",
      "Process: (os.path.realpath; os.startfile)\r\n",
      "Output: file opened with associated application\r\n",
      "\"\"\"\r\n",
      "    from os import path,startfile\r\n",
      "    return startfile(path.realpath(nParPath))\r\n",
      "# --- END ---\r\n"
     ]
    }
   ],
   "source": [
    "%%script bash\n",
    "grep -1 \"def fFile\" ../src/fubar.py -A 9"
   ]
  },
  {
   "cell_type": "markdown",
   "id": "e1449819",
   "metadata": {},
   "source": [
    "<a id=\"top\"></a>\n",
    "***\n",
    "## Table of Contents\n",
    "***\n",
    "\n",
    "## [Abstract](#abstract)\n",
    "\n",
    "## [Introduction](#introduction)\n",
    "\n",
    "* [``numpy``](#introductionnumpy) <br/><br/>\n",
    "    * [``array``](#introductionnumpyarray) <br/><br/>\n",
    "    * [``random.normal``](#introductionnumpyrandomnormal) <br/><br/>\n",
    "    * [``vstack``](#introductionnumpyvstack) <br/><br/>\n",
    "    * &#8594; ``attr``: <br/><br/>\n",
    "        * [``T``](#introductionnumpyattributeT) <br/><br/>\n",
    "    * [``concatenate``](#introductionnumpyconcatenate) <br/><br/>\n",
    "    * [``random.shuffle``](#introductionnumpyrandomshuffle) <br/><br/>\n",
    "* [``matplotlib.pyplot``](#introductionmatplotlibpyplot) <br/><br/>\n",
    "    * [``plot``](#introductionmatplotlibpyplotplot)\n",
    "\n",
    "## [Solution](#solution)\n",
    "\n",
    "* [``sklearn.cluster``](#solutionsklearncluster) <br/><br/>\n",
    "    * &#8594; ``obj:`` <br/><br/>\n",
    "        * [``KMeans``](#solutionsklearnclusterKMeansn_clusterrandom_state)&nbsp;&nbsp;|&nbsp;&nbsp;[``:n_cluster``](#solutionsklearnclusterKMeansn_clusterrandom_state)&nbsp;&nbsp;|&nbsp;&nbsp;[``:random_state``](#solutionsklearnclusterKMeansn_clusterrandom_state) <br/><br/>\n",
    "            * [``fit``](#solutionsklearnclusterKMeansn_clusterrandom_statefit) <br/><br/>\n",
    "            * &#8594; ``attr``: <br/><br/>\n",
    "                * [``labels_``](#solutionsklearnclusterKMeansn_clusterrandom_statelabels) (&#8594; ``matplotlib.pyplot`` &#8594; ``plot``) <br/><br/>\n",
    "            * [``predict``](#solutionsklearnclusterKMeansn_clusterrandom_statepredict) (&#8594; ``numpy`` &#8594; ``array``) (&#8594; ``matplotlib.pyplot`` &#8594; ``plot``) <br/><br/>\n",
    "            * &#8594; ``attr``: <br/><br/>\n",
    "                * [``cluster_centers_``](#solutionsklearnclusterKMeansn_clusterrandom_statecluster_centers_) (&#8594; ``matplotlib.pyplot`` &#8594; ``plot``)\n",
    "                \n",
    "## [Conclusion](#conclusion)\n",
    "\n",
    "* [Classification](#conclusionClassification) <br/><br/>\n",
    "    * [``linspace``](#conclusionClassificationlinspace) (&#8594; ``numpy``) (&#8594; ``numpy`` &#8594; ``vstack``) (&#8594; ``sklearn.cluster`` &#8594; ``obj`` &#8594; ``KMeans`` &#8594; ``predict``) (&#8594; ``matplotlib.pyplot`` &#8594; ``plot``)"
   ]
  },
  {
   "cell_type": "markdown",
   "id": "bc989e6f",
   "metadata": {},
   "source": [
    "***\n",
    "## END"
   ]
  },
  {
   "cell_type": "markdown",
   "id": "0c88ab4a",
   "metadata": {},
   "source": [
    "< [Table of Contents](#top) | [Introduction](#introduction) | [Solution](#solution) | [Conclusion](#conclusion) | [References](#references) >\n",
    "<a id=\"abstract\"></a>\n",
    "***\n",
    "## Abstract\n",
    "***"
   ]
  },
  {
   "cell_type": "code",
   "execution_count": null,
   "id": "bcd6388c",
   "metadata": {},
   "outputs": [],
   "source": [
    "# fFile(\"./hide/04-K-means - using your own dataset - 22-11-2020.mp4\")"
   ]
  },
  {
   "cell_type": "markdown",
   "id": "a647a75b",
   "metadata": {},
   "source": [
    "- knowing a little bit about simulation and plotting can help understand the documentation for the various machine learning algorithms [1]"
   ]
  },
  {
   "cell_type": "markdown",
   "id": "3fa461fc",
   "metadata": {},
   "source": [
    "***\n",
    "## END"
   ]
  },
  {
   "cell_type": "markdown",
   "id": "d319e57d",
   "metadata": {},
   "source": [
    "< [Table of Contents](#top) | [Abstract](#abstract) | [Solution](#solution) | [Conclusion](#conclusion) | [References](#references) >\n",
    "<a id=\"introduction\"></a>\n",
    "***\n",
    "## Introduction\n",
    "***"
   ]
  },
  {
   "cell_type": "markdown",
   "id": "c67d2ccd",
   "metadata": {},
   "source": [
    "- picking two central points and building two clusters around those [1]"
   ]
  },
  {
   "cell_type": "markdown",
   "id": "2538e66b",
   "metadata": {},
   "source": [
    "< [Table of Contents](#top) | [References](#references) >\n",
    "<a id=\"introductionnumpy\"></a>\n",
    "***\n",
    "### ``numpy``\n",
    "***"
   ]
  },
  {
   "cell_type": "code",
   "execution_count": 1,
   "id": "ee04ce7a",
   "metadata": {},
   "outputs": [],
   "source": [
    "import numpy as np"
   ]
  },
  {
   "cell_type": "markdown",
   "id": "59edd53a",
   "metadata": {},
   "source": [
    "< [Table of Contents](#top) | [References](#references) >\n",
    "<a id=\"introductionnumpyarray\"></a>\n",
    "***\n",
    "###### ``array``\n",
    "***"
   ]
  },
  {
   "cell_type": "markdown",
   "id": "7c1e6c3a",
   "metadata": {},
   "source": [
    "- goal is to create a group of points around the ``[1., 2.]`` and a group of points around ``[ 5., 12.]`` [1]"
   ]
  },
  {
   "cell_type": "code",
   "execution_count": 2,
   "id": "f1a1d770",
   "metadata": {},
   "outputs": [],
   "source": [
    "c1=np.array(object=[1.0,2.0])"
   ]
  },
  {
   "cell_type": "code",
   "execution_count": 3,
   "id": "99f788be",
   "metadata": {},
   "outputs": [
    {
     "data": {
      "text/plain": [
       "array([1., 2.])"
      ]
     },
     "execution_count": 3,
     "metadata": {},
     "output_type": "execute_result"
    }
   ],
   "source": [
    "c1"
   ]
  },
  {
   "cell_type": "code",
   "execution_count": 4,
   "id": "6728c8d6",
   "metadata": {},
   "outputs": [],
   "source": [
    "c2=np.array(object=[5.0,12.0])"
   ]
  },
  {
   "cell_type": "code",
   "execution_count": 5,
   "id": "2489fcc5",
   "metadata": {},
   "outputs": [
    {
     "data": {
      "text/plain": [
       "array([ 5., 12.])"
      ]
     },
     "execution_count": 5,
     "metadata": {},
     "output_type": "execute_result"
    }
   ],
   "source": [
    "c2"
   ]
  },
  {
   "cell_type": "markdown",
   "id": "53619b18",
   "metadata": {},
   "source": [
    "- later merge both sets of points into one dataset and see if the ``KMeans`` algorithm can separate them back out (game the system) [1]"
   ]
  },
  {
   "cell_type": "markdown",
   "id": "5be97651",
   "metadata": {},
   "source": [
    "< [Table of Contents](#top) | [References](#references) >\n",
    "<a id=\"introductionnumpyrandomnormal\"></a>\n",
    "***\n",
    "###### ``random.normal``\n",
    "***"
   ]
  },
  {
   "cell_type": "markdown",
   "id": "fa6b18a1",
   "metadata": {},
   "source": [
    "- create points randomly around these centres (``c1`` and ``c2``) [1]"
   ]
  },
  {
   "cell_type": "code",
   "execution_count": 6,
   "id": "56bac06c",
   "metadata": {},
   "outputs": [],
   "source": [
    "c1x=np.random.normal(loc=c1[0],scale=1.0,size=10) # cluster one x"
   ]
  },
  {
   "cell_type": "code",
   "execution_count": 7,
   "id": "06beace8",
   "metadata": {},
   "outputs": [],
   "source": [
    "X=c1x"
   ]
  },
  {
   "cell_type": "markdown",
   "id": "c092ac6c",
   "metadata": {},
   "source": [
    "- ``X`` (dataset) is now a group of points around $1.0$ [1]"
   ]
  },
  {
   "cell_type": "code",
   "execution_count": 8,
   "id": "64ce7a65",
   "metadata": {},
   "outputs": [
    {
     "data": {
      "text/plain": [
       "array([-0.32057291,  1.39306938,  1.69493335,  0.81051797,  1.70656197,\n",
       "       -0.08310199,  1.8255777 ,  2.50117864,  1.32785271,  1.32533982])"
      ]
     },
     "execution_count": 8,
     "metadata": {},
     "output_type": "execute_result"
    }
   ],
   "source": [
    "X"
   ]
  },
  {
   "cell_type": "code",
   "execution_count": 9,
   "id": "f7e11adb",
   "metadata": {},
   "outputs": [],
   "source": [
    "c1y=np.random.normal(loc=c1[1],scale=1.0,size=10) # cluster one y"
   ]
  },
  {
   "cell_type": "code",
   "execution_count": 10,
   "id": "6cd8fc7c",
   "metadata": {},
   "outputs": [],
   "source": [
    "X=c1y"
   ]
  },
  {
   "cell_type": "markdown",
   "id": "baea9c1c",
   "metadata": {},
   "source": [
    "- ``X`` (dataset) is now a group of points around $2.0$ [1]"
   ]
  },
  {
   "cell_type": "code",
   "execution_count": 11,
   "id": "f10f44bf",
   "metadata": {},
   "outputs": [
    {
     "data": {
      "text/plain": [
       "array([2.6626012 , 1.7008501 , 3.94970791, 1.15016927, 0.93479753,\n",
       "       3.28620712, 0.72279627, 3.44089378, 2.64793095, 2.56474494])"
      ]
     },
     "execution_count": 11,
     "metadata": {},
     "output_type": "execute_result"
    }
   ],
   "source": [
    "X"
   ]
  },
  {
   "cell_type": "markdown",
   "id": "ef4864ea",
   "metadata": {},
   "source": [
    "< [Table of Contents](#top) | [References](#references) >\n",
    "<a id=\"introductionnumpyvstack\"></a>\n",
    "***\n",
    "###### ``vstack``\n",
    "***"
   ]
  },
  {
   "cell_type": "markdown",
   "id": "837a855f",
   "metadata": {},
   "source": [
    "- need to put the ``c1x`` and ``c1y`` into points [1]"
   ]
  },
  {
   "cell_type": "markdown",
   "id": "8733abcd",
   "metadata": {},
   "source": [
    "- vertically stacking the first collection on top of the second collection [1]"
   ]
  },
  {
   "cell_type": "code",
   "execution_count": 12,
   "id": "ea26d0c6",
   "metadata": {},
   "outputs": [],
   "source": [
    "c1p=np.vstack([c1x,c1y])"
   ]
  },
  {
   "cell_type": "code",
   "execution_count": 13,
   "id": "e0b04a3d",
   "metadata": {},
   "outputs": [],
   "source": [
    "X=c1p"
   ]
  },
  {
   "cell_type": "markdown",
   "id": "db7858d5",
   "metadata": {},
   "source": [
    "- result is an outer collection with the two created collections within [1]"
   ]
  },
  {
   "cell_type": "code",
   "execution_count": 14,
   "id": "d8004151",
   "metadata": {},
   "outputs": [
    {
     "data": {
      "text/plain": [
       "array([[-0.32057291,  1.39306938,  1.69493335,  0.81051797,  1.70656197,\n",
       "        -0.08310199,  1.8255777 ,  2.50117864,  1.32785271,  1.32533982],\n",
       "       [ 2.6626012 ,  1.7008501 ,  3.94970791,  1.15016927,  0.93479753,\n",
       "         3.28620712,  0.72279627,  3.44089378,  2.64793095,  2.56474494]])"
      ]
     },
     "execution_count": 14,
     "metadata": {},
     "output_type": "execute_result"
    }
   ],
   "source": [
    "X"
   ]
  },
  {
   "cell_type": "markdown",
   "id": "e2d9840a",
   "metadata": {},
   "source": [
    "< [Table of Contents](#top) | [References](#references) >\n",
    "<a id=\"introductionnumpyattributeT\"></a>\n",
    "***\n",
    "###### ``T``\n",
    "***"
   ]
  },
  {
   "cell_type": "markdown",
   "id": "ffe1f566",
   "metadata": {},
   "source": [
    "- transposed array [1]"
   ]
  },
  {
   "cell_type": "code",
   "execution_count": 15,
   "id": "ccb9389a",
   "metadata": {},
   "outputs": [],
   "source": [
    "c1p=np.vstack([c1x,c1y]).T"
   ]
  },
  {
   "cell_type": "code",
   "execution_count": 16,
   "id": "f86347ef",
   "metadata": {},
   "outputs": [],
   "source": [
    "X=c1p"
   ]
  },
  {
   "cell_type": "markdown",
   "id": "2348163f",
   "metadata": {},
   "source": [
    "- group of ten points all centred around the point ``[1., 2.]`` on the plot [1]"
   ]
  },
  {
   "cell_type": "code",
   "execution_count": 17,
   "id": "73b80bf9",
   "metadata": {},
   "outputs": [
    {
     "data": {
      "text/plain": [
       "array([[-0.32057291,  2.6626012 ],\n",
       "       [ 1.39306938,  1.7008501 ],\n",
       "       [ 1.69493335,  3.94970791],\n",
       "       [ 0.81051797,  1.15016927],\n",
       "       [ 1.70656197,  0.93479753],\n",
       "       [-0.08310199,  3.28620712],\n",
       "       [ 1.8255777 ,  0.72279627],\n",
       "       [ 2.50117864,  3.44089378],\n",
       "       [ 1.32785271,  2.64793095],\n",
       "       [ 1.32533982,  2.56474494]])"
      ]
     },
     "execution_count": 17,
     "metadata": {},
     "output_type": "execute_result"
    }
   ],
   "source": [
    "X"
   ]
  },
  {
   "cell_type": "markdown",
   "id": "0aeafbba",
   "metadata": {},
   "source": [
    "- same process for ``c2`` (create points randomly around the centre) [1]"
   ]
  },
  {
   "cell_type": "code",
   "execution_count": 18,
   "id": "0d4bd1a1",
   "metadata": {},
   "outputs": [],
   "source": [
    "c2x=np.random.normal(loc=c2[0],scale=1.0,size=10) # cluster two x\n",
    "c2y=np.random.normal(loc=c2[1],scale=1.0,size=10) # cluster two y\n",
    "c2p=np.vstack([c2x,c2y]).T"
   ]
  },
  {
   "cell_type": "code",
   "execution_count": 19,
   "id": "dae6a796",
   "metadata": {},
   "outputs": [
    {
     "data": {
      "text/plain": [
       "array([[ 4.21644578, 11.15032412],\n",
       "       [ 5.59051754, 13.35890885],\n",
       "       [ 5.7491717 , 12.19070595],\n",
       "       [ 5.36778853, 12.08609688],\n",
       "       [ 4.24344269, 13.20709507],\n",
       "       [ 5.57014771,  9.28554508],\n",
       "       [ 5.13751633, 11.52659328],\n",
       "       [ 4.38999379, 11.03007814],\n",
       "       [ 5.79023246, 10.99325044],\n",
       "       [ 5.42705622, 12.12177025]])"
      ]
     },
     "execution_count": 19,
     "metadata": {},
     "output_type": "execute_result"
    }
   ],
   "source": [
    "c2p"
   ]
  },
  {
   "cell_type": "markdown",
   "id": "f7e0e77a",
   "metadata": {},
   "source": [
    "< [Table of Contents](#top) | [References](#references) >\n",
    "<a id=\"introductionnumpyconcatenate\"></a>\n",
    "***\n",
    "###### ``concatenate``\n",
    "***"
   ]
  },
  {
   "cell_type": "markdown",
   "id": "7000a3d3",
   "metadata": {},
   "source": [
    "- merge the two groups of ten points together [1]"
   ]
  },
  {
   "cell_type": "code",
   "execution_count": 20,
   "id": "2db8f59d",
   "metadata": {},
   "outputs": [
    {
     "data": {
      "text/plain": [
       "array([[-0.32057291,  2.6626012 ],\n",
       "       [ 1.39306938,  1.7008501 ],\n",
       "       [ 1.69493335,  3.94970791],\n",
       "       [ 0.81051797,  1.15016927],\n",
       "       [ 1.70656197,  0.93479753],\n",
       "       [-0.08310199,  3.28620712],\n",
       "       [ 1.8255777 ,  0.72279627],\n",
       "       [ 2.50117864,  3.44089378],\n",
       "       [ 1.32785271,  2.64793095],\n",
       "       [ 1.32533982,  2.56474494]])"
      ]
     },
     "execution_count": 20,
     "metadata": {},
     "output_type": "execute_result"
    }
   ],
   "source": [
    "X"
   ]
  },
  {
   "cell_type": "code",
   "execution_count": 21,
   "id": "f6c7e9b9",
   "metadata": {},
   "outputs": [
    {
     "data": {
      "text/plain": [
       "array([[ 4.21644578, 11.15032412],\n",
       "       [ 5.59051754, 13.35890885],\n",
       "       [ 5.7491717 , 12.19070595],\n",
       "       [ 5.36778853, 12.08609688],\n",
       "       [ 4.24344269, 13.20709507],\n",
       "       [ 5.57014771,  9.28554508],\n",
       "       [ 5.13751633, 11.52659328],\n",
       "       [ 4.38999379, 11.03007814],\n",
       "       [ 5.79023246, 10.99325044],\n",
       "       [ 5.42705622, 12.12177025]])"
      ]
     },
     "execution_count": 21,
     "metadata": {},
     "output_type": "execute_result"
    }
   ],
   "source": [
    "c2p"
   ]
  },
  {
   "cell_type": "code",
   "execution_count": 22,
   "id": "4ff071bc",
   "metadata": {},
   "outputs": [],
   "source": [
    "X=np.concatenate([c1p,c2p])"
   ]
  },
  {
   "cell_type": "markdown",
   "id": "0f1f0576",
   "metadata": {},
   "source": [
    "- the first ten points are grouped around ``[1., 2.]`` and the second ten points are bunched around ``[ 5., 12.]`` [1]"
   ]
  },
  {
   "cell_type": "code",
   "execution_count": 23,
   "id": "feb63bfe",
   "metadata": {},
   "outputs": [
    {
     "data": {
      "text/plain": [
       "array([[-0.32057291,  2.6626012 ],\n",
       "       [ 1.39306938,  1.7008501 ],\n",
       "       [ 1.69493335,  3.94970791],\n",
       "       [ 0.81051797,  1.15016927],\n",
       "       [ 1.70656197,  0.93479753],\n",
       "       [-0.08310199,  3.28620712],\n",
       "       [ 1.8255777 ,  0.72279627],\n",
       "       [ 2.50117864,  3.44089378],\n",
       "       [ 1.32785271,  2.64793095],\n",
       "       [ 1.32533982,  2.56474494],\n",
       "       [ 4.21644578, 11.15032412],\n",
       "       [ 5.59051754, 13.35890885],\n",
       "       [ 5.7491717 , 12.19070595],\n",
       "       [ 5.36778853, 12.08609688],\n",
       "       [ 4.24344269, 13.20709507],\n",
       "       [ 5.57014771,  9.28554508],\n",
       "       [ 5.13751633, 11.52659328],\n",
       "       [ 4.38999379, 11.03007814],\n",
       "       [ 5.79023246, 10.99325044],\n",
       "       [ 5.42705622, 12.12177025]])"
      ]
     },
     "execution_count": 23,
     "metadata": {},
     "output_type": "execute_result"
    }
   ],
   "source": [
    "X"
   ]
  },
  {
   "cell_type": "markdown",
   "id": "5bfaf3e6",
   "metadata": {},
   "source": [
    "< [Table of Contents](#top) | [References](#references) >\n",
    "<a id=\"introductionnumpyrandomshuffle\"></a>\n",
    "***\n",
    "###### ``random.shuffle``\n",
    "***"
   ]
  },
  {
   "cell_type": "markdown",
   "id": "f77c333c",
   "metadata": {},
   "source": [
    "- mixing the two groups together (``X``) [1]"
   ]
  },
  {
   "cell_type": "code",
   "execution_count": 24,
   "id": "7f95c41d",
   "metadata": {},
   "outputs": [],
   "source": [
    "np.random.shuffle(X)"
   ]
  },
  {
   "cell_type": "markdown",
   "id": "1ed7bc97",
   "metadata": {},
   "source": [
    "- shuffling the points in order to ensure the groups are not identifiable via the collection itself [1]"
   ]
  },
  {
   "cell_type": "code",
   "execution_count": 25,
   "id": "4f3c877c",
   "metadata": {},
   "outputs": [
    {
     "data": {
      "text/plain": [
       "array([[ 5.36778853, 12.08609688],\n",
       "       [ 5.7491717 , 12.19070595],\n",
       "       [ 5.57014771,  9.28554508],\n",
       "       [ 1.70656197,  0.93479753],\n",
       "       [-0.08310199,  3.28620712],\n",
       "       [ 1.69493335,  3.94970791],\n",
       "       [ 5.42705622, 12.12177025],\n",
       "       [ 1.8255777 ,  0.72279627],\n",
       "       [ 5.13751633, 11.52659328],\n",
       "       [-0.32057291,  2.6626012 ],\n",
       "       [ 0.81051797,  1.15016927],\n",
       "       [ 5.59051754, 13.35890885],\n",
       "       [ 5.79023246, 10.99325044],\n",
       "       [ 1.32533982,  2.56474494],\n",
       "       [ 1.32785271,  2.64793095],\n",
       "       [ 4.38999379, 11.03007814],\n",
       "       [ 1.39306938,  1.7008501 ],\n",
       "       [ 2.50117864,  3.44089378],\n",
       "       [ 4.24344269, 13.20709507],\n",
       "       [ 4.21644578, 11.15032412]])"
      ]
     },
     "execution_count": 25,
     "metadata": {},
     "output_type": "execute_result"
    }
   ],
   "source": [
    "X"
   ]
  },
  {
   "cell_type": "markdown",
   "id": "a8068136",
   "metadata": {},
   "source": [
    "< [Table of Contents](#top) | [References](#references) >\n",
    "<a id=\"introductionmatplotlibpyplot\"></a>\n",
    "***\n",
    "### ``matplotlib.pyplot``\n",
    "***"
   ]
  },
  {
   "cell_type": "code",
   "execution_count": 26,
   "id": "e0755fc5",
   "metadata": {},
   "outputs": [],
   "source": [
    "import matplotlib.pyplot as plt"
   ]
  },
  {
   "cell_type": "markdown",
   "id": "3aeb0e25",
   "metadata": {},
   "source": [
    "< [Table of Contents](#top) | [References](#references) >\n",
    "<a id=\"introductionmatplotlibpyplotplot\"></a>\n",
    "***\n",
    "###### ``plot``\n",
    "***"
   ]
  },
  {
   "cell_type": "code",
   "execution_count": 27,
   "id": "cbd0626e",
   "metadata": {},
   "outputs": [
    {
     "data": {
      "text/html": [
       "<style>.container { width:100% !important; }</style>"
      ],
      "text/plain": [
       "<IPython.core.display.HTML object>"
      ]
     },
     "metadata": {},
     "output_type": "display_data"
    }
   ],
   "source": [
    "from sys import path; path.insert(1,\"../src\")\n",
    "from fubar import fDarkReader\n",
    "fDarkReader()"
   ]
  },
  {
   "cell_type": "code",
   "execution_count": 28,
   "id": "0783ea00",
   "metadata": {},
   "outputs": [
    {
     "data": {
      "image/png": "[encoded data removed]",
      "text/plain": [
       "<Figure size 640x480 with 1 Axes>"
      ]
     },
     "metadata": {},
     "output_type": "display_data"
    }
   ],
   "source": [
    "plt.plot(X[:,0],X[:,1],\"x\");"
   ]
  },
  {
   "cell_type": "markdown",
   "id": "c8781b87",
   "metadata": {},
   "source": [
    "***\n",
    "## END"
   ]
  },
  {
   "cell_type": "markdown",
   "id": "f1291269",
   "metadata": {},
   "source": [
    "< [Table of Contents](#top) | [Abstract](#abstract) | [Introduction](#introduction) | [Conclusion](#conclusion) | [References](#references) >\n",
    "<a id=\"solution\"></a>\n",
    "***\n",
    "## Solution\n",
    "***"
   ]
  },
  {
   "cell_type": "markdown",
   "id": "d5271bcd",
   "metadata": {},
   "source": [
    "< [Table of Contents](#top) | [References](#references) >\n",
    "<a id=\"solutionsklearncluster\"></a>\n",
    "***\n",
    "### ``sklearn.cluster``\n",
    "***"
   ]
  },
  {
   "cell_type": "code",
   "execution_count": 29,
   "id": "bd9a840d",
   "metadata": {},
   "outputs": [],
   "source": [
    "import sklearn.cluster as skcl"
   ]
  },
  {
   "cell_type": "markdown",
   "id": "98c23f7e",
   "metadata": {},
   "source": [
    "< [Table of Contents](#top) | [References](#references) >\n",
    "<a id=\"solutionsklearnclusterKMeansn_clusterrandom_state\"></a>\n",
    "***\n",
    "###### ``KMeans`` ``:n_cluster`` ``:random_state``\n",
    "***"
   ]
  },
  {
   "cell_type": "code",
   "execution_count": 30,
   "id": "96da7747",
   "metadata": {},
   "outputs": [],
   "source": [
    "nInsObjKMeans=skcl.KMeans(n_clusters=2,random_state=0)"
   ]
  },
  {
   "cell_type": "code",
   "execution_count": 31,
   "id": "c674468f",
   "metadata": {},
   "outputs": [
    {
     "data": {
      "text/plain": [
       "KMeans(n_clusters=2, random_state=0)"
      ]
     },
     "execution_count": 31,
     "metadata": {},
     "output_type": "execute_result"
    }
   ],
   "source": [
    "nInsObjKMeans"
   ]
  },
  {
   "cell_type": "markdown",
   "id": "0b7583ca",
   "metadata": {},
   "source": [
    "< [Table of Contents](#top) | [References](#references) >\n",
    "<a id=\"solutionsklearnclusterKMeansn_clusterrandom_statefit\"></a>\n",
    "***\n",
    "###### ``fit``\n",
    "***"
   ]
  },
  {
   "cell_type": "code",
   "execution_count": 32,
   "id": "005d5e1d",
   "metadata": {},
   "outputs": [
    {
     "data": {
      "text/plain": [
       "array([[ 5.36778853, 12.08609688],\n",
       "       [ 5.7491717 , 12.19070595],\n",
       "       [ 5.57014771,  9.28554508],\n",
       "       [ 1.70656197,  0.93479753],\n",
       "       [-0.08310199,  3.28620712],\n",
       "       [ 1.69493335,  3.94970791],\n",
       "       [ 5.42705622, 12.12177025],\n",
       "       [ 1.8255777 ,  0.72279627],\n",
       "       [ 5.13751633, 11.52659328],\n",
       "       [-0.32057291,  2.6626012 ],\n",
       "       [ 0.81051797,  1.15016927],\n",
       "       [ 5.59051754, 13.35890885],\n",
       "       [ 5.79023246, 10.99325044],\n",
       "       [ 1.32533982,  2.56474494],\n",
       "       [ 1.32785271,  2.64793095],\n",
       "       [ 4.38999379, 11.03007814],\n",
       "       [ 1.39306938,  1.7008501 ],\n",
       "       [ 2.50117864,  3.44089378],\n",
       "       [ 4.24344269, 13.20709507],\n",
       "       [ 4.21644578, 11.15032412]])"
      ]
     },
     "execution_count": 32,
     "metadata": {},
     "output_type": "execute_result"
    }
   ],
   "source": [
    "X"
   ]
  },
  {
   "cell_type": "code",
   "execution_count": 33,
   "id": "4781929d",
   "metadata": {},
   "outputs": [
    {
     "data": {
      "text/plain": [
       "KMeans(n_clusters=2, random_state=0)"
      ]
     },
     "execution_count": 33,
     "metadata": {},
     "output_type": "execute_result"
    }
   ],
   "source": [
    "nInsObjKMeans.fit(X=X)"
   ]
  },
  {
   "cell_type": "markdown",
   "id": "05f5f010",
   "metadata": {},
   "source": [
    "< [Table of Contents](#top) | [References](#references) >\n",
    "<a id=\"solutionsklearnclusterKMeansn_clusterrandom_statelabels\"></a>\n",
    "***\n",
    "###### ``labels_``\n",
    "***"
   ]
  },
  {
   "cell_type": "code",
   "execution_count": 34,
   "id": "419fad9e",
   "metadata": {},
   "outputs": [
    {
     "data": {
      "text/plain": [
       "array([0, 0, 0, 1, 1, 1, 0, 1, 0, 1, 1, 0, 0, 1, 1, 0, 1, 1, 0, 0])"
      ]
     },
     "execution_count": 34,
     "metadata": {},
     "output_type": "execute_result"
    }
   ],
   "source": [
    "nInsObjKMeans.labels_"
   ]
  },
  {
   "cell_type": "markdown",
   "id": "b838854e",
   "metadata": {},
   "source": [
    "- ``plot`` the two groups (``X``) from ``nInsObjKMeans`` (make both groups identifiable) [1]"
   ]
  },
  {
   "cell_type": "code",
   "execution_count": 35,
   "id": "ed55eb61",
   "metadata": {},
   "outputs": [
    {
     "data": {
      "image/png": "[encoded data removed]",
      "text/plain": [
       "<Figure size 640x480 with 1 Axes>"
      ]
     },
     "metadata": {},
     "output_type": "display_data"
    }
   ],
   "source": [
    "plt.plot(X[nInsObjKMeans.labels_==0][:,0],X[nInsObjKMeans.labels_==0][:,1],\"xg\")\n",
    "plt.plot(X[nInsObjKMeans.labels_==1][:,0],X[nInsObjKMeans.labels_==1][:,1],\"xr\");"
   ]
  },
  {
   "cell_type": "markdown",
   "id": "77271977",
   "metadata": {},
   "source": [
    "< [Table of Contents](#top) | [References](#references) >\n",
    "<a id=\"solutionsklearnclusterKMeansn_clusterrandom_statepredict\"></a>\n",
    "***\n",
    "###### ``predict``\n",
    "***"
   ]
  },
  {
   "cell_type": "markdown",
   "id": "231125d4",
   "metadata": {},
   "source": [
    "- make prediction (``nVals``) [1]"
   ]
  },
  {
   "cell_type": "code",
   "execution_count": 36,
   "id": "66f32f61",
   "metadata": {},
   "outputs": [],
   "source": [
    "nVals=np.array([[0.0,0.0],[6,10]])"
   ]
  },
  {
   "cell_type": "code",
   "execution_count": 37,
   "id": "2b9c8517",
   "metadata": {},
   "outputs": [
    {
     "data": {
      "text/plain": [
       "array([[ 0.,  0.],\n",
       "       [ 6., 10.]])"
      ]
     },
     "execution_count": 37,
     "metadata": {},
     "output_type": "execute_result"
    }
   ],
   "source": [
    "nVals"
   ]
  },
  {
   "cell_type": "code",
   "execution_count": 38,
   "id": "861cda17",
   "metadata": {},
   "outputs": [],
   "source": [
    "nPrediction=nInsObjKMeans.predict(nVals)"
   ]
  },
  {
   "cell_type": "code",
   "execution_count": 39,
   "id": "71b7f093",
   "metadata": {},
   "outputs": [
    {
     "data": {
      "text/plain": [
       "array([1, 0])"
      ]
     },
     "execution_count": 39,
     "metadata": {},
     "output_type": "execute_result"
    }
   ],
   "source": [
    "nPrediction"
   ]
  },
  {
   "cell_type": "markdown",
   "id": "db968aa1",
   "metadata": {},
   "source": [
    "- plot ``nPrediction`` with associated coloured marker [1]"
   ]
  },
  {
   "cell_type": "code",
   "execution_count": 40,
   "id": "c7b8d6aa",
   "metadata": {},
   "outputs": [
    {
     "data": {
      "image/png": "[encoded data removed]",
      "text/plain": [
       "<Figure size 640x480 with 1 Axes>"
      ]
     },
     "metadata": {},
     "output_type": "display_data"
    }
   ],
   "source": [
    "plt.plot(X[nInsObjKMeans.labels_==0][:,0],X[nInsObjKMeans.labels_==0][:,1],\"xg\")\n",
    "plt.plot(X[nInsObjKMeans.labels_==1][:,0],X[nInsObjKMeans.labels_==1][:,1],\"xr\")\n",
    "plt.plot(nVals[nPrediction==0][:,0],nVals[nPrediction==0][:,1],\"go\")\n",
    "plt.plot(nVals[nPrediction==1][:,0],nVals[nPrediction==1][:,1],\"ro\");"
   ]
  },
  {
   "cell_type": "markdown",
   "id": "a4e929a1",
   "metadata": {},
   "source": [
    "< [Table of Contents](#top) | [References](#references) >\n",
    "<a id=\"solutionsklearnclusterKMeansn_clusterrandom_statecluster_centers_\"></a>\n",
    "***\n",
    "###### ``cluster_centers_``\n",
    "***"
   ]
  },
  {
   "cell_type": "code",
   "execution_count": 41,
   "id": "acf2d79f",
   "metadata": {},
   "outputs": [],
   "source": [
    "cent=nInsObjKMeans.cluster_centers_"
   ]
  },
  {
   "cell_type": "code",
   "execution_count": 42,
   "id": "0da7af9d",
   "metadata": {},
   "outputs": [
    {
     "data": {
      "text/plain": [
       "array([[ 5.14823128, 11.69503681],\n",
       "       [ 1.21813567,  2.30606991]])"
      ]
     },
     "execution_count": 42,
     "metadata": {},
     "output_type": "execute_result"
    }
   ],
   "source": [
    "cent"
   ]
  },
  {
   "cell_type": "markdown",
   "id": "13bfa9e7",
   "metadata": {},
   "source": [
    "- ``plot`` centres of each cluster [1]"
   ]
  },
  {
   "cell_type": "markdown",
   "id": "1f6ee432",
   "metadata": {},
   "source": [
    "- the ``KMeans`` algorithm determines (black dot within the green/red group) the centre point based on where the points sit on the plot [1]"
   ]
  },
  {
   "cell_type": "markdown",
   "id": "6825d457",
   "metadata": {},
   "source": [
    "- introducing two new points (``nVals``) the question is which of the centre points each is closer to [1]"
   ]
  },
  {
   "cell_type": "code",
   "execution_count": 43,
   "id": "9b8e1370",
   "metadata": {
    "scrolled": false
   },
   "outputs": [
    {
     "data": {
      "image/png": "[encoded data removed]",
      "text/plain": [
       "<Figure size 640x480 with 1 Axes>"
      ]
     },
     "metadata": {},
     "output_type": "display_data"
    }
   ],
   "source": [
    "plt.plot(X[nInsObjKMeans.labels_==0][:,0],X[nInsObjKMeans.labels_==0][:,1],\"xg\")\n",
    "plt.plot(X[nInsObjKMeans.labels_==1][:,0],X[nInsObjKMeans.labels_==1][:,1],\"xr\")\n",
    "plt.plot(nVals[nPrediction==0][:,0],nVals[nPrediction==0][:,1],\"go\")\n",
    "plt.plot(nVals[nPrediction==1][:,0],nVals[nPrediction==1][:,1],\"ro\")\n",
    "plt.plot(cent[:,0],cent[:,1],\"k.\");"
   ]
  },
  {
   "cell_type": "markdown",
   "id": "681a4f11",
   "metadata": {},
   "source": [
    "<!-- - refer [Appendix](#appendix-df) to view the full dataset <a id=\"go-back-df\"></a> -->\n",
    "<!-- print(fGetModuleType(___x___),fDocumentation(___x___)) -->\n",
    "***\n",
    "## END"
   ]
  },
  {
   "cell_type": "markdown",
   "id": "28e9ffc8",
   "metadata": {},
   "source": [
    "< [Table of Contents](#top) | [Abstract](#abstract) | [Introduction](#introduction) | [Solution](#solution) | [References](#references) >\n",
    "<a id=\"conclusion\"></a>\n",
    "***\n",
    "## Conclusion\n",
    "***"
   ]
  },
  {
   "cell_type": "markdown",
   "id": "a9fba3f6",
   "metadata": {},
   "source": [
    "- creating a line of points evenly spaced on a plot (very contrived and aligned) from the button left to the top right (by design using ``numpy.linspace``) [1]"
   ]
  },
  {
   "cell_type": "markdown",
   "id": "416afed1",
   "metadata": {},
   "source": [
    "< [Table of Contents](#top) | [References](#references) >\n",
    "<a id=\"conclusionClassification\"></a>\n",
    "***\n",
    "### Classification\n",
    "***"
   ]
  },
  {
   "cell_type": "markdown",
   "id": "df514adb",
   "metadata": {},
   "source": [
    "- creating a new collection of ``nVals`` (dummy points for classification) [1]"
   ]
  },
  {
   "cell_type": "markdown",
   "id": "2eb8a0c6",
   "metadata": {},
   "source": [
    "< [Table of Contents](#top) | [References](#references) >\n",
    "<a id=\"conclusionClassificationlinspace\"></a>\n",
    "***\n",
    "###### ``linspace``\n",
    "***"
   ]
  },
  {
   "cell_type": "code",
   "execution_count": 44,
   "id": "4eefa563",
   "metadata": {},
   "outputs": [],
   "source": [
    "xVals=np.linspace(start=-1.0,stop=7.0,num=10)"
   ]
  },
  {
   "cell_type": "code",
   "execution_count": 45,
   "id": "e1f05edd",
   "metadata": {},
   "outputs": [
    {
     "data": {
      "text/plain": [
       "array([-1.        , -0.11111111,  0.77777778,  1.66666667,  2.55555556,\n",
       "        3.44444444,  4.33333333,  5.22222222,  6.11111111,  7.        ])"
      ]
     },
     "execution_count": 45,
     "metadata": {},
     "output_type": "execute_result"
    }
   ],
   "source": [
    "xVals"
   ]
  },
  {
   "cell_type": "code",
   "execution_count": 46,
   "id": "21193a3c",
   "metadata": {},
   "outputs": [],
   "source": [
    "yVals=np.linspace(start=-1.0,stop=15.0,num=10)"
   ]
  },
  {
   "cell_type": "code",
   "execution_count": 47,
   "id": "f3dc2628",
   "metadata": {
    "scrolled": true
   },
   "outputs": [
    {
     "data": {
      "text/plain": [
       "array([-1.        ,  0.77777778,  2.55555556,  4.33333333,  6.11111111,\n",
       "        7.88888889,  9.66666667, 11.44444444, 13.22222222, 15.        ])"
      ]
     },
     "execution_count": 47,
     "metadata": {},
     "output_type": "execute_result"
    }
   ],
   "source": [
    "yVals"
   ]
  },
  {
   "cell_type": "code",
   "execution_count": 48,
   "id": "b1f85327",
   "metadata": {},
   "outputs": [],
   "source": [
    "nVals=np.vstack([xVals,yVals]).T"
   ]
  },
  {
   "cell_type": "code",
   "execution_count": 49,
   "id": "389d7de4",
   "metadata": {},
   "outputs": [
    {
     "data": {
      "text/plain": [
       "array([[-1.        , -1.        ],\n",
       "       [-0.11111111,  0.77777778],\n",
       "       [ 0.77777778,  2.55555556],\n",
       "       [ 1.66666667,  4.33333333],\n",
       "       [ 2.55555556,  6.11111111],\n",
       "       [ 3.44444444,  7.88888889],\n",
       "       [ 4.33333333,  9.66666667],\n",
       "       [ 5.22222222, 11.44444444],\n",
       "       [ 6.11111111, 13.22222222],\n",
       "       [ 7.        , 15.        ]])"
      ]
     },
     "execution_count": 49,
     "metadata": {},
     "output_type": "execute_result"
    }
   ],
   "source": [
    "nVals"
   ]
  },
  {
   "cell_type": "markdown",
   "id": "83aef941",
   "metadata": {},
   "source": [
    "- get the ``KMeans`` algorithm to classify [1]"
   ]
  },
  {
   "cell_type": "code",
   "execution_count": 50,
   "id": "ecf0aac4",
   "metadata": {},
   "outputs": [],
   "source": [
    "nPrediction=nInsObjKMeans.predict(nVals)"
   ]
  },
  {
   "cell_type": "code",
   "execution_count": 51,
   "id": "51bf3a6d",
   "metadata": {},
   "outputs": [
    {
     "data": {
      "text/plain": [
       "array([1, 1, 1, 1, 1, 0, 0, 0, 0, 0])"
      ]
     },
     "execution_count": 51,
     "metadata": {},
     "output_type": "execute_result"
    }
   ],
   "source": [
    "nPrediction"
   ]
  },
  {
   "cell_type": "markdown",
   "id": "9d44d5a6",
   "metadata": {},
   "source": [
    "- the new points are classified according to a cluster (there exists a decision boundary between the green and red points) [1]"
   ]
  },
  {
   "cell_type": "code",
   "execution_count": 52,
   "id": "04509d9e",
   "metadata": {},
   "outputs": [
    {
     "data": {
      "image/png": "[encoded data removed]",
      "text/plain": [
       "<Figure size 640x480 with 1 Axes>"
      ]
     },
     "metadata": {},
     "output_type": "display_data"
    }
   ],
   "source": [
    "plt.plot(X[nInsObjKMeans.labels_==0][:,0],X[nInsObjKMeans.labels_==0][:,1],\"xg\")\n",
    "plt.plot(X[nInsObjKMeans.labels_==1][:,0],X[nInsObjKMeans.labels_==1][:,1],\"xr\")\n",
    "plt.plot(nVals[nPrediction==0][:,0],nVals[nPrediction==0][:,1],\"go\")\n",
    "plt.plot(nVals[nPrediction==1][:,0],nVals[nPrediction==1][:,1],\"ro\");"
   ]
  },
  {
   "cell_type": "markdown",
   "id": "a0387190",
   "metadata": {},
   "source": [
    "- color associated with closest black dot [1]"
   ]
  },
  {
   "cell_type": "code",
   "execution_count": 53,
   "id": "dc8b7b0c",
   "metadata": {},
   "outputs": [
    {
     "data": {
      "image/png": "[encoded data removed]",
      "text/plain": [
       "<Figure size 640x480 with 1 Axes>"
      ]
     },
     "metadata": {},
     "output_type": "display_data"
    }
   ],
   "source": [
    "plt.plot(X[nInsObjKMeans.labels_==0][:,0],X[nInsObjKMeans.labels_==0][:,1],\"xg\")\n",
    "plt.plot(X[nInsObjKMeans.labels_==1][:,0],X[nInsObjKMeans.labels_==1][:,1],\"xr\")\n",
    "plt.plot(nVals[nPrediction==0][:,0],nVals[nPrediction==0][:,1],\"go\")\n",
    "plt.plot(nVals[nPrediction==1][:,0],nVals[nPrediction==1][:,1],\"ro\")\n",
    "plt.plot(cent[:,0],cent[:,1],\"k.\");"
   ]
  },
  {
   "cell_type": "code",
   "execution_count": 54,
   "id": "f15f020f",
   "metadata": {},
   "outputs": [],
   "source": [
    "exit()"
   ]
  },
  {
   "cell_type": "markdown",
   "id": "840b765a",
   "metadata": {},
   "source": [
    "***\n",
    "## END"
   ]
  },
  {
   "cell_type": "markdown",
   "id": "e0e42d51",
   "metadata": {},
   "source": [
    "< [Table of Contents](#top) | [Abstract](#abstract) | [Introduction](#introduction) | [Solution](#solution) | [Conclusion](#conclusion) | [References](#references) >\n",
    "<a id=\"references\"></a>\n",
    "***\n",
    "## References\n",
    "***\n",
    "\n",
    "&nbsp;&nbsp;&nbsp;&nbsp;&nbsp;&nbsp;&nbsp;&nbsp;&nbsp;[1] I. McLoughlin, \"K-means - using your own dataset,\" GMIT, November 2020."
   ]
  },
  {
   "cell_type": "markdown",
   "id": "b33c372a",
   "metadata": {},
   "source": [
    "***\n",
    "## END"
   ]
  },
  {
   "cell_type": "markdown",
   "id": "e5961b4d",
   "metadata": {},
   "source": [
    "< [Table of Contents](#top) | [Abstract](#abstract) | [Introduction](#introduction) | [Solution](#solution) | [Conclusion](#conclusion) | [References](#references) >\n",
    "<a id=\"appendix\"></a>\n",
    "***\n",
    "## Appendix\n",
    "***"
   ]
  },
  {
   "cell_type": "markdown",
   "id": "00d82a82",
   "metadata": {},
   "source": [
    "***\n",
    "## END"
   ]
  },
  {
   "cell_type": "markdown",
   "id": "899c1783",
   "metadata": {},
   "source": [
    "# END JUPYTER NOTEBOOK"
   ]
  }
 ],
 "metadata": {
  "kernelspec": {
   "display_name": "Python 3",
   "language": "python",
   "name": "python3"
  },
  "language_info": {
   "codemirror_mode": {
    "name": "ipython",
    "version": 3
   },
   "file_extension": ".py",
   "mimetype": "text/x-python",
   "name": "python",
   "nbconvert_exporter": "python",
   "pygments_lexer": "ipython3",
   "version": "3.8.8"
  }
 },
 "nbformat": 4,
 "nbformat_minor": 5
}
